{
 "cells": [
  {
   "cell_type": "code",
   "execution_count": 8,
   "metadata": {},
   "outputs": [],
   "source": [
    "import akshare as ak\n",
    "import json\n",
    "import pandas as pd\n",
    "import sys\n",
    "import datetime\n",
    "import os\n",
    "import pandas as pd\n",
    "import pyecharts.options as opts\n",
    "from pyecharts.charts import Line\n",
    "from pyecharts.commons.utils import JsCode\n",
    "from pyecharts import options as opts\n",
    "from pyecharts.charts import Scatter\n",
    "from pyecharts.options import InitOpts\n",
    "from pyecharts import options as opts\n",
    "from pyecharts.charts import Bar, Grid, Line\n",
    "import matplotlib.pyplot as plt\n",
    "from pyecharts import options as opts\n",
    "from pyecharts.charts import Bar\n",
    "%matplotlib inline\n",
    "\n",
    "\n",
    "def convert_time(x):\n",
    "    return str(x).replace(' 00:00:00','')\n",
    "    \n",
    "import re\n",
    "sys.path.append('..')\n",
    "from configure.settings import DBSelector\n",
    "db = DBSelector()\n",
    "mongo = db.mongo('qq')\n",
    "fund = mongo['fund']"
   ]
  },
  {
   "cell_type": "code",
   "execution_count": 3,
   "metadata": {},
   "outputs": [],
   "source": [
    "def get_net_value(code):\n",
    "    fund_open_fund_info_em_df = ak.fund_open_fund_info_em(fund=code, indicator=\"累计净值走势\")\n",
    "    return fund_open_fund_info_em_df"
   ]
  },
  {
   "cell_type": "code",
   "execution_count": 7,
   "metadata": {},
   "outputs": [],
   "source": [
    "\n",
    "\n",
    "def dump_mongo(df,code):\n",
    "    js_str = df.to_json(orient='index')\n",
    "    js_dict = json.loads(js_str)\n",
    "    js_list = js_dict.values()\n",
    "    try:\n",
    "        fund[code].insert_many(js_list)\n",
    "    except Exception as e:\n",
    "        print(e)\n",
    "        \n"
   ]
  },
  {
   "cell_type": "code",
   "execution_count": 9,
   "metadata": {},
   "outputs": [],
   "source": [
    "def start_crawl(code):\n",
    "    df = get_net_value(code)\n",
    "    df['净值日期']=df['净值日期'].astype(str)\n",
    "    dump_mongo(df,code)\n"
   ]
  },
  {
   "cell_type": "code",
   "execution_count": 59,
   "metadata": {},
   "outputs": [],
   "source": []
  },
  {
   "cell_type": "code",
   "execution_count": 10,
   "metadata": {},
   "outputs": [],
   "source": [
    "txt='''\n",
    "1. $西部利得国企红利指数增强A(F501059)$ \n",
    "\n",
    "跟踪中证国有企业红利指数，基金经理@盛丰衍 等，今年以来回报16.40%，近一年回报5.47%，近一年最大回撤-19.28%，二季度末规模2.98亿。\n",
    "\n",
    "2. $创金合信中证红利低波动指数A(F005561)$ \n",
    "\n",
    "跟踪中证红利低波动指数，今年以来回报10.94%，近一年回报5.81%，近一年最大回撤-15.67%，二季度末规模3.81亿。\n",
    "\n",
    "3. $万家中证红利指数(LOF)A(F161907)$ \n",
    "\n",
    "跟踪中证红利指数，今年以来回报4.14%，近一年回报-3.07%，近一年最大回撤-17.41%，二季度末规模1.32亿。\n",
    "\n",
    "4. $华宝红利基金(F501029)$ \n",
    "\n",
    "跟踪中信标普中国A股红利机会指数，今年以来回报1.32%，近一年回报3.95%，近一年最大回撤-12.60%，二季度末规模8.79亿。\n",
    "\n",
    "5.$泰达消费红利指数A(F008928)$ \n",
    "\n",
    "跟踪中证主要消费红利指数，今年以来回报-5.82%，近一年回报3.20%，近一年最大回撤-18.13%，二季度末规模3.34亿。\n",
    "\n",
    "6. $中欧红利优享混合A(F004814)$ \n",
    "\n",
    "基金经理，今年以来回报-6.54%，近一年回报-4.85%，近一年最大回撤-22.23%，二季度末规模17.06亿。\n",
    "\n",
    "7. $融通红利机会混合A(F005618)$ \n",
    "\n",
    "基金经理何龙，今年以来回报-4.82%，近一年回报-4.22%，近一年最大回撤-9.08%，二季度末规模0.16亿。\n",
    "\n",
    "8. $长盛量化红利混合(F080005)$ \n",
    "\n",
    "基金经理王宁，今年以来回报-0.36%，近一年回报-8.66%，近一年最大回撤-17.97%，二季度末规模2.07亿。\n",
    "\n",
    "9. $南方大盘红利低波50ETF联接A(F008163)$ \n",
    "\n",
    "跟踪标普中国A股大盘红利低波50指数，今年以来回报-3.54%，近一年回报-3.57%，近一年最大回撤-12.75%，二季度末规模0.45亿。\n",
    "\n",
    "10. $财通中证香港红利等权指数A(F006658)$ \n",
    "\n",
    "跟踪中证香港红利等权投资指数，今年以来回报-8.09%，近一年回报-20.85%，近一年最大回撤-22.53%，二季度末规模0.16亿。\n",
    "\n",
    "11. $景顺长城中证沪港深红利低波A(F007751)$ \n",
    "\n",
    "跟踪中证沪港深红利成长低波动人民币指数，今年以来回报1.71%，近一年回报-0.97%，近一年最大回撤-12.92%，二季度末规模0.80亿\n",
    "\n",
    "'''\n",
    "\n",
    "code_list = re.findall('\\(F(\\d+)\\)',txt)\n",
    "fund_name = re.findall('\\$(.*?)\\$',txt)\n",
    "fund_dict = dict(zip(code_list,fund_name))"
   ]
  },
  {
   "cell_type": "code",
   "execution_count": 6,
   "metadata": {},
   "outputs": [
    {
     "data": {
      "text/plain": [
       "{'501059': '西部利得国企红利指数增强A(F501059)',\n",
       " '005561': '创金合信中证红利低波动指数A(F005561)',\n",
       " '161907': '万家中证红利指数(LOF)A(F161907)',\n",
       " '501029': '华宝红利基金(F501029)',\n",
       " '008928': '泰达消费红利指数A(F008928)',\n",
       " '004814': '中欧红利优享混合A(F004814)',\n",
       " '005618': '融通红利机会混合A(F005618)',\n",
       " '080005': '长盛量化红利混合(F080005)',\n",
       " '008163': '南方大盘红利低波50ETF联接A(F008163)',\n",
       " '006658': '财通中证香港红利等权指数A(F006658)',\n",
       " '007751': '景顺长城中证沪港深红利低波A(F007751)'}"
      ]
     },
     "execution_count": 6,
     "metadata": {},
     "output_type": "execute_result"
    }
   ],
   "source": [
    "fund_dict"
   ]
  },
  {
   "cell_type": "code",
   "execution_count": 11,
   "metadata": {},
   "outputs": [],
   "source": [
    "for code,name in fund_dict.items():\n",
    "    start_crawl(code)"
   ]
  },
  {
   "cell_type": "code",
   "execution_count": 60,
   "metadata": {},
   "outputs": [],
   "source": [
    "# after fetch data"
   ]
  },
  {
   "cell_type": "code",
   "execution_count": 13,
   "metadata": {},
   "outputs": [],
   "source": [
    "def plot_profit_line(df,code):\n",
    "    title=\"{}基金收益率曲线\".format(code)\n",
    "    X=df['净值日期'].tolist()\n",
    "    Y=list(map(lambda x:round(x,2),df['单位净值'].tolist()))\n",
    "    c = (\n",
    "        Line()\n",
    "        .add_xaxis(X)\n",
    "        .add_yaxis('', Y, is_smooth=True,\n",
    "            label_opts=opts.LabelOpts(is_show=False),\n",
    "            linestyle_opts=opts.LineStyleOpts(width=1,color='rgb(255, 0, 0)'),\n",
    "        ).set_global_opts(\n",
    "            title_opts=opts.TitleOpts(title=title),\n",
    "            xaxis_opts=opts.AxisOpts(\n",
    "                                    name='日期',\n",
    "                                    # min_interval=5,\n",
    "                                    splitline_opts=opts.SplitLineOpts(is_show=True),\n",
    "                                            axislabel_opts=opts.LabelOpts(rotate=45),\n",
    "\n",
    "                                    ),\n",
    "            yaxis_opts=opts.AxisOpts(\n",
    "                                    min_=min(Y),\n",
    "                                    max_=max(Y),\n",
    "                splitline_opts=opts.SplitLineOpts(is_show=True),\n",
    "            )\n",
    "                                        ).set_colors(['green'])\n",
    "        .render(f\"../plot_image/{title}.html\")\n",
    "    )"
   ]
  },
  {
   "cell_type": "code",
   "execution_count": 14,
   "metadata": {},
   "outputs": [],
   "source": [
    "\n",
    "for code,name in fund_dict.items():\n",
    "    result = []\n",
    "    for item in fund[code].find({},{'_id':0}):\n",
    "        result.append(item)\n",
    "    df = pd.DataFrame(result)\n",
    "    plot_profit_line(df,name)\n",
    "    "
   ]
  },
  {
   "cell_type": "code",
   "execution_count": 15,
   "metadata": {},
   "outputs": [],
   "source": [
    "name_list  = list(fund_dict.values())"
   ]
  },
  {
   "cell_type": "code",
   "execution_count": 16,
   "metadata": {},
   "outputs": [],
   "source": [
    "sipmle_name = [i.split('(')[0] for i in name_list]"
   ]
  },
  {
   "cell_type": "code",
   "execution_count": 17,
   "metadata": {},
   "outputs": [
    {
     "data": {
      "text/plain": [
       "['西部利得国企红利指数增强A',\n",
       " '创金合信中证红利低波动指数A',\n",
       " '万家中证红利指数',\n",
       " '华宝红利基金',\n",
       " '泰达消费红利指数A',\n",
       " '中欧红利优享混合A',\n",
       " '融通红利机会混合A',\n",
       " '长盛量化红利混合',\n",
       " '南方大盘红利低波50ETF联接A',\n",
       " '财通中证香港红利等权指数A',\n",
       " '景顺长城中证沪港深红利低波A']"
      ]
     },
     "execution_count": 17,
     "metadata": {},
     "output_type": "execute_result"
    }
   ],
   "source": [
    "sipmle_name"
   ]
  },
  {
   "cell_type": "code",
   "execution_count": 31,
   "metadata": {},
   "outputs": [],
   "source": [
    "W=10000\n",
    "focus_num = [\n",
    "2.7*W,\n",
    "1.7*W,\n",
    "1.2*W,\n",
    "1.2*W,\n",
    "2.9*W,\n",
    "11.2*W,\n",
    "9.3*W,\n",
    "1569,\n",
    "2191,\n",
    "]"
   ]
  },
  {
   "cell_type": "code",
   "execution_count": 56,
   "metadata": {},
   "outputs": [],
   "source": [
    "c = (\n",
    "    Scatter(InitOpts(width='800px',height='500px'))\n",
    "    .add_xaxis(sipmle_name)\n",
    "    .add_yaxis('A',focus_num,label_opts=opts.LabelOpts(is_show=True))\n",
    "    .set_global_opts(\n",
    "        xaxis_opts=opts.AxisOpts(\n",
    "                                    # name='日期',\n",
    "                                    # min_interval=5,\n",
    "                                    splitline_opts=opts.SplitLineOpts(is_show=True),\n",
    "                                            axislabel_opts=opts.LabelOpts(rotate=-45),\n",
    "\n",
    "                                    ),\n",
    "        yaxis_opts=opts.AxisOpts(    \n",
    "            min_=0,\n",
    "                splitline_opts=opts.SplitLineOpts(is_show=True),\n",
    "            ),\n",
    "        title_opts=opts.TitleOpts(title=\"welcome\"),\n",
    "        visualmap_opts=opts.VisualMapOpts(type_=\"size\",max_=150000, min_=2000),\n",
    "    )\n",
    "    .render(\"welcome_fund.html\")\n",
    ")"
   ]
  },
  {
   "cell_type": "code",
   "execution_count": 47,
   "metadata": {},
   "outputs": [
    {
     "data": {
      "text/plain": [
       "[27000.0, 17000.0, 12000.0, 12000.0, 29000.0, 112000.0, 93000.0, 1569, 2191]"
      ]
     },
     "execution_count": 47,
     "metadata": {},
     "output_type": "execute_result"
    }
   ],
   "source": [
    "focus_num"
   ]
  },
  {
   "cell_type": "code",
   "execution_count": 76,
   "metadata": {},
   "outputs": [],
   "source": []
  },
  {
   "cell_type": "code",
   "execution_count": 96,
   "metadata": {},
   "outputs": [],
   "source": [
    "grid = (\n",
    "    Grid(init_opts=opts.InitOpts())\n",
    "    .add(c, grid_opts=opts.GridOpts(pos_bottom=\"40%\"))\n",
    "    .render(\"grid_vertical.html\")\n",
    ")"
   ]
  },
  {
   "cell_type": "code",
   "execution_count": 95,
   "metadata": {},
   "outputs": [],
   "source": [
    "\n",
    "c = (\n",
    "    Bar()\n",
    "    .add_xaxis(\n",
    "    new_name\n",
    "    )\n",
    "    .add_yaxis(\"基金关注度\", focus_num,label_opts=opts.LabelOpts(is_show=False))\n",
    "    .set_global_opts(\n",
    "        xaxis_opts=opts.AxisOpts(axislabel_opts=opts.LabelOpts(rotate=0)),\n",
    "        title_opts=opts.TitleOpts(title=\"基金关注度\"),\n",
    "    )\n",
    "    # .render(\"基金关注度.html\")\n",
    ")"
   ]
  },
  {
   "cell_type": "code",
   "execution_count": 72,
   "metadata": {},
   "outputs": [],
   "source": [
    "new_name = []\n",
    "for name in sipmle_name:\n",
    "    new_name.append('\\n'.join(list(name)))"
   ]
  },
  {
   "cell_type": "code",
   "execution_count": 73,
   "metadata": {},
   "outputs": [
    {
     "data": {
      "text/plain": [
       "['华\\n安\\n纳\\n斯\\n达\\n克\\n1\\n0\\n0\\n指\\n数',\n",
       " '博\\n时\\n标\\n普\\n5\\n0\\n0\\nE\\nT\\nF\\n联\\n接',\n",
       " '天\\n弘\\n恒\\n生\\n科\\n技\\n指\\n数\\nA',\n",
       " '嘉\\n实\\n港\\n股\\n通\\n新\\n经\\n济\\n指\\n数\\nA',\n",
       " '华\\n夏\\n恒\\n生\\nE\\nT\\nF\\n联\\n接',\n",
       " '易\\n方\\n达\\n中\\n概\\n互\\n联\\n5\\n0\\nE\\nT\\nF\\n联\\n接\\n人\\n民\\n币\\nA',\n",
       " '交\\n银\\n中\\n证\\n海\\n外\\n中\\n国\\n互\\n联\\n网\\n指\\n数',\n",
       " '华\\n安\\n香\\n港\\n精\\n选',\n",
       " '中\\n欧\\n丰\\n泓\\n沪\\n港\\n深\\nA']"
      ]
     },
     "execution_count": 73,
     "metadata": {},
     "output_type": "execute_result"
    }
   ],
   "source": [
    "new_name"
   ]
  },
  {
   "cell_type": "code",
   "execution_count": 71,
   "metadata": {},
   "outputs": [
    {
     "data": {
      "text/plain": [
       "'华安纳斯达克100指数'"
      ]
     },
     "execution_count": 71,
     "metadata": {},
     "output_type": "execute_result"
    }
   ],
   "source": [
    "sipmle_name[0]\n"
   ]
  },
  {
   "cell_type": "code",
   "execution_count": 115,
   "metadata": {},
   "outputs": [
    {
     "name": "stdout",
     "output_type": "stream",
     "text": [
      "3.0904109589041098\n"
     ]
    }
   ],
   "source": [
    "date='20190118'\n",
    "year = (datetime.datetime.now() - datetime.datetime.strptime(date,'%Y%m%d')).days/365\n",
    "print(year)"
   ]
  },
  {
   "cell_type": "code",
   "execution_count": 116,
   "metadata": {},
   "outputs": [
    {
     "data": {
      "text/plain": [
       "0.9934832338426756"
      ]
     },
     "execution_count": 116,
     "metadata": {},
     "output_type": "execute_result"
    }
   ],
   "source": [
    "0.98**(1/3.09)"
   ]
  },
  {
   "cell_type": "code",
   "execution_count": 100,
   "metadata": {},
   "outputs": [
    {
     "name": "stdout",
     "output_type": "stream",
     "text": [
      "华安纳斯达克100指数\n",
      "博时标普500ETF联接\n",
      "天弘恒生科技指数A\n",
      "嘉实港股通新经济指数A\n",
      "华夏恒生ETF联接\n",
      "易方达中概互联50ETF联接人民币A\n",
      "交银中证海外中国互联网指数\n",
      "华安香港精选\n",
      "中欧丰泓沪港深A\n"
     ]
    }
   ],
   "source": [
    "for i in sipmle_name:\n",
    "    print(i)"
   ]
  },
  {
   "cell_type": "code",
   "execution_count": 111,
   "metadata": {},
   "outputs": [
    {
     "data": {
      "text/plain": [
       "0.2772"
      ]
     },
     "execution_count": 111,
     "metadata": {},
     "output_type": "execute_result"
    }
   ],
   "source": [
    "1-0.7228"
   ]
  },
  {
   "cell_type": "code",
   "execution_count": 114,
   "metadata": {},
   "outputs": [
    {
     "data": {
      "text/plain": [
       "-0.40769999999999995"
      ]
     },
     "execution_count": 114,
     "metadata": {},
     "output_type": "execute_result"
    }
   ],
   "source": [
    "0.5923-1"
   ]
  },
  {
   "cell_type": "code",
   "execution_count": 117,
   "metadata": {},
   "outputs": [
    {
     "data": {
      "text/plain": [
       "-0.006516766157324438"
      ]
     },
     "execution_count": 117,
     "metadata": {},
     "output_type": "execute_result"
    }
   ],
   "source": [
    "0.9934832338426756-1"
   ]
  },
  {
   "cell_type": "code",
   "execution_count": 3,
   "metadata": {},
   "outputs": [],
   "source": [
    "code='006327'\n",
    "result=[]\n",
    "for item in fund[code].find({},{'_id':0}):\n",
    "    result.append(item)\n",
    "df = pd.DataFrame(result)"
   ]
  },
  {
   "cell_type": "code",
   "execution_count": 4,
   "metadata": {},
   "outputs": [
    {
     "data": {
      "text/html": [
       "<div>\n",
       "<style scoped>\n",
       "    .dataframe tbody tr th:only-of-type {\n",
       "        vertical-align: middle;\n",
       "    }\n",
       "\n",
       "    .dataframe tbody tr th {\n",
       "        vertical-align: top;\n",
       "    }\n",
       "\n",
       "    .dataframe thead th {\n",
       "        text-align: right;\n",
       "    }\n",
       "</style>\n",
       "<table border=\"1\" class=\"dataframe\">\n",
       "  <thead>\n",
       "    <tr style=\"text-align: right;\">\n",
       "      <th></th>\n",
       "      <th>净值日期</th>\n",
       "      <th>单位净值</th>\n",
       "      <th>日增长率</th>\n",
       "    </tr>\n",
       "  </thead>\n",
       "  <tbody>\n",
       "    <tr>\n",
       "      <th>0</th>\n",
       "      <td>2019-01-18</td>\n",
       "      <td>1.0000</td>\n",
       "      <td>0.0</td>\n",
       "    </tr>\n",
       "    <tr>\n",
       "      <th>1</th>\n",
       "      <td>2019-01-25</td>\n",
       "      <td>1.0001</td>\n",
       "      <td>0.0</td>\n",
       "    </tr>\n",
       "    <tr>\n",
       "      <th>2</th>\n",
       "      <td>2019-02-01</td>\n",
       "      <td>1.0003</td>\n",
       "      <td>0.0</td>\n",
       "    </tr>\n",
       "    <tr>\n",
       "      <th>3</th>\n",
       "      <td>2019-02-15</td>\n",
       "      <td>1.0007</td>\n",
       "      <td>0.0</td>\n",
       "    </tr>\n",
       "    <tr>\n",
       "      <th>4</th>\n",
       "      <td>2019-02-18</td>\n",
       "      <td>1.0007</td>\n",
       "      <td>0.0</td>\n",
       "    </tr>\n",
       "  </tbody>\n",
       "</table>\n",
       "</div>"
      ],
      "text/plain": [
       "         净值日期    单位净值  日增长率\n",
       "0  2019-01-18  1.0000   0.0\n",
       "1  2019-01-25  1.0001   0.0\n",
       "2  2019-02-01  1.0003   0.0\n",
       "3  2019-02-15  1.0007   0.0\n",
       "4  2019-02-18  1.0007   0.0"
      ]
     },
     "execution_count": 4,
     "metadata": {},
     "output_type": "execute_result"
    }
   ],
   "source": [
    "df.head()"
   ]
  },
  {
   "cell_type": "code",
   "execution_count": 6,
   "metadata": {},
   "outputs": [
    {
     "data": {
      "text/plain": [
       "['2019', '01', '18']"
      ]
     },
     "execution_count": 6,
     "metadata": {},
     "output_type": "execute_result"
    }
   ],
   "source": []
  },
  {
   "cell_type": "code",
   "execution_count": 10,
   "metadata": {},
   "outputs": [],
   "source": [
    "def get_net_value_df(code):\n",
    "    result=[]\n",
    "    for item in fund[code].find({},{'_id':0}):\n",
    "        result.append(item)\n",
    "    df = pd.DataFrame(result)\n",
    "    return df"
   ]
  },
  {
   "cell_type": "code",
   "execution_count": 30,
   "metadata": {},
   "outputs": [],
   "source": [
    "def automatic_investment_plan(code):\n",
    "    df = get_net_value_df(code)\n",
    "\n",
    "    money = 10000\n",
    "    total_share =0 \n",
    "    interval = 22\n",
    "    length = len(df)\n",
    "    sum_money=0\n",
    "    count=0\n",
    "    for i in range(0,length,interval):\n",
    "        buy_date_df = df.iloc[i]\n",
    "        share = money/buy_date_df['单位净值']\n",
    "        total_share+=share\n",
    "        sum_money+=money\n",
    "        count+=1\n",
    "    virtual_profit = (df.iloc[-1]['单位净值']*total_share-sum_money)/sum_money*100\n",
    "    data=[]\n",
    "    year,month,day=df.iloc[0]['净值日期'].split('-')\n",
    "    for i in range(count):\n",
    "        data.append((datetime.date(int(year), int(month), int(day))+datetime.timedelta(days=i*30), -1*money))\n",
    "    current_money = df.iloc[-1]['单位净值']*total_share\n",
    "    data.append((datetime.date(int(year), int(month), int(day))+datetime.timedelta(days=i*30),current_money))\n",
    "    percent = xirr(data)\n",
    "    print(sum_money,round(current_money,2))\n",
    "    every_round_profit = irr([money]*count+[-1*current_money])\n",
    "    real_profit = pow(every_round_profit+1,count)-1\n",
    "    print(code,round(percent*100,2),round(virtual_profit,2),round(real_profit*100,2))"
   ]
  },
  {
   "cell_type": "code",
   "execution_count": 2,
   "metadata": {},
   "outputs": [],
   "source": [
    "from datetime import date\n",
    " \n",
    "# 函数\n",
    "def xirr(cashflows):\n",
    "    years = [(ta[0] - cashflows[0][0]).days / 365. for ta in cashflows]\n",
    "    residual = 1.0\n",
    "    step = 0.05\n",
    "    guess = 0.05\n",
    "    epsilon = 0.0001\n",
    "    limit = 10000\n",
    "    while abs(residual) > epsilon and limit > 0:\n",
    "        limit -= 1\n",
    "        residual = 0.0\n",
    "        for i, trans in enumerate(cashflows):\n",
    "            residual += trans[1] / pow(guess, years[i])\n",
    "        if abs(residual) > epsilon:\n",
    "            if residual > 0:\n",
    "                guess += step\n",
    "            else:\n",
    "                guess -= step\n",
    "                step /= 2.0\n",
    "    return guess - 1\n"
   ]
  },
  {
   "cell_type": "code",
   "execution_count": null,
   "metadata": {},
   "outputs": [],
   "source": [
    "# 测试\n",
    "data = [(datetime.date(2006, 1, 24), -39967), (datetime.date(2008, 2, 6), -19866), (datetime.date(2010, 10, 18), 245706), (datetime.date(2013, 9, 14), 52142)]\n",
    "xirr(data)"
   ]
  },
  {
   "cell_type": "code",
   "execution_count": 31,
   "metadata": {},
   "outputs": [
    {
     "name": "stdout",
     "output_type": "stream",
     "text": [
      "950000 2140678.11\n",
      "040046 20.63 125.33 322.0\n",
      "1040000 1903879.5\n",
      "050025 13.96 83.07 200.15\n",
      "70000 60075.1\n",
      "012348 -47.41 -14.18 -23.88\n",
      "340000 306207.33\n",
      "501311 -7.57 -9.94 -18.69\n",
      "1020000 1054546.22\n",
      "000071 0.8 3.39 6.78\n",
      "340000 280241.33\n",
      "006327 -13.74 -17.58 -32.14\n",
      "740000 665284.69\n",
      "164906 -3.55 -10.1 -19.25\n",
      "1260000 2254157.95\n",
      "040018 10.95 78.9 189.16\n",
      "580000 747497.07\n",
      "002685 10.95 28.88 61.6\n"
     ]
    }
   ],
   "source": [
    "for code in code_list:\n",
    "    automatic_investment_plan(code)"
   ]
  },
  {
   "cell_type": "code",
   "execution_count": 16,
   "metadata": {},
   "outputs": [],
   "source": [
    "import numpy as np"
   ]
  },
  {
   "cell_type": "code",
   "execution_count": 19,
   "metadata": {},
   "outputs": [],
   "source": [
    "def irr(values):\n",
    "    \"\"\"\n",
    "    Return the Internal Rate of Return (IRR).\n",
    "    .. deprecated:: 1.18\n",
    "       `irr` is deprecated; for details, see NEP 32 [1]_.\n",
    "       Use the corresponding function in the numpy-financial library,\n",
    "       https://pypi.org/project/numpy-financial.\n",
    "    This is the \"average\" periodically compounded rate of return\n",
    "    that gives a net present value of 0.0; for a more complete explanation,\n",
    "    see Notes below.\n",
    "    :class:`decimal.Decimal` type is not supported.\n",
    "    Parameters\n",
    "    ----------\n",
    "    values : array_like, shape(N,)\n",
    "        Input cash flows per time period.  By convention, net \"deposits\"\n",
    "        are negative and net \"withdrawals\" are positive.  Thus, for\n",
    "        example, at least the first element of `values`, which represents\n",
    "        the initial investment, will typically be negative.\n",
    "    Returns\n",
    "    -------\n",
    "    out : float\n",
    "        Internal Rate of Return for periodic input values.\n",
    "    Notes\n",
    "    -----\n",
    "    The IRR is perhaps best understood through an example (illustrated\n",
    "    using np.irr in the Examples section below).  Suppose one invests 100\n",
    "    units and then makes the following withdrawals at regular (fixed)\n",
    "    intervals: 39, 59, 55, 20.  Assuming the ending value is 0, one's 100\n",
    "    unit investment yields 173 units; however, due to the combination of\n",
    "    compounding and the periodic withdrawals, the \"average\" rate of return\n",
    "    is neither simply 0.73/4 nor (1.73)^0.25-1.  Rather, it is the solution\n",
    "    (for :math:`r`) of the equation:\n",
    "    .. math:: -100 + \\\\frac{39}{1+r} + \\\\frac{59}{(1+r)^2}\n",
    "     + \\\\frac{55}{(1+r)^3} + \\\\frac{20}{(1+r)^4} = 0\n",
    "    In general, for `values` :math:`= [v_0, v_1, ... v_M]`,\n",
    "    irr is the solution of the equation: [2]_\n",
    "    .. math:: \\\\sum_{t=0}^M{\\\\frac{v_t}{(1+irr)^{t}}} = 0\n",
    "    References\n",
    "    ----------\n",
    "    .. [1] NumPy Enhancement Proposal (NEP) 32,\n",
    "       https://numpy.org/neps/nep-0032-remove-financial-functions.html\n",
    "    .. [2] L. J. Gitman, \"Principles of Managerial Finance, Brief,\" 3rd ed.,\n",
    "       Addison-Wesley, 2003, pg. 348.\n",
    "    Examples\n",
    "    --------\n",
    "    >>> round(np.irr([-100, 39, 59, 55, 20]), 5)\n",
    "    0.28095\n",
    "    >>> round(np.irr([-100, 0, 0, 74]), 5)\n",
    "    -0.0955\n",
    "    >>> round(np.irr([-100, 100, 0, -7]), 5)\n",
    "    -0.0833\n",
    "    >>> round(np.irr([-100, 100, 0, 7]), 5)\n",
    "    0.06206\n",
    "    >>> round(np.irr([-5, 10.5, 1, -8, 1]), 5)\n",
    "    0.0886\n",
    "    \"\"\"\n",
    "    # `np.roots` call is why this function does not support Decimal type.\n",
    "    #\n",
    "    # Ultimately Decimal support needs to be added to np.roots, which has\n",
    "    # greater implications on the entire linear algebra module and how it does\n",
    "    # eigenvalue computations.\n",
    "    res = np.roots(values[::-1])  # 求根，对于n次多项式，p[0] * x**n + p[1] * x**(n-1) + ... + p[n-1]*x + p[n]，传入p的列表参数[p[0],p[1],...p[n]].\n",
    "    mask = (res.imag == 0) & (res.real > 0)  # 虚部为0，实部为非负数。\n",
    "    if not mask.any():  # 判断是否有满足条件的实根\n",
    "        return np.nan  # 不满足，返回Not A Number\n",
    "    res = res[mask].real\n",
    "    # NPV(rate) = 0 can have more than one solution so we return\n",
    "    # only the solution closest to zero.\n",
    "    rate = 1/res - 1  # 这里解出的res，也就是符合条件的x，其实等于1/(1+r)，因此要做一个变换回去，r=1/x-1\n",
    "    rate = rate.item(np.argmin(np.abs(rate)))  # argmin()取最小值的下标，也就是说可能会计算出多个折现率，我们取最小那个\n",
    "    return rate"
   ]
  },
  {
   "cell_type": "code",
   "execution_count": null,
   "metadata": {},
   "outputs": [],
   "source": []
  }
 ],
 "metadata": {
  "interpreter": {
   "hash": "3317d8e3644028c2868e82f28dd88c90f6239ea0f73e118ac78e96e8cc46cfd5"
  },
  "kernelspec": {
   "display_name": "Python 3.9.1 ('base')",
   "language": "python",
   "name": "python3"
  },
  "language_info": {
   "codemirror_mode": {
    "name": "ipython",
    "version": 3
   },
   "file_extension": ".py",
   "mimetype": "text/x-python",
   "name": "python",
   "nbconvert_exporter": "python",
   "pygments_lexer": "ipython3",
   "version": "3.9.7"
  },
  "orig_nbformat": 4
 },
 "nbformat": 4,
 "nbformat_minor": 2
}
